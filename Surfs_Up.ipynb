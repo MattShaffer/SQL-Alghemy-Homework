{
 "cells": [
  {
   "cell_type": "code",
   "execution_count": 1,
   "metadata": {},
   "outputs": [],
   "source": [
    "%matplotlib inline\n",
    "from matplotlib import style\n",
    "style.use('fivethirtyeight')\n",
    "import matplotlib.pyplot as plt"
   ]
  },
  {
   "cell_type": "code",
   "execution_count": 2,
   "metadata": {},
   "outputs": [],
   "source": [
    "import numpy as np\n",
    "import pandas as pd"
   ]
  },
  {
   "cell_type": "code",
   "execution_count": 3,
   "metadata": {},
   "outputs": [],
   "source": [
    "import datetime as dt"
   ]
  },
  {
   "cell_type": "markdown",
   "metadata": {},
   "source": [
    "# Reflect Tables into SQLAlchemy ORM"
   ]
  },
  {
   "cell_type": "code",
   "execution_count": 4,
   "metadata": {},
   "outputs": [],
   "source": [
    "# Python SQL toolkit and Object Relational Mapper\n",
    "import sqlalchemy\n",
    "from sqlalchemy.ext.automap import automap_base\n",
    "from sqlalchemy.orm import Session\n",
    "from sqlalchemy import create_engine, func"
   ]
  },
  {
   "cell_type": "code",
   "execution_count": 5,
   "metadata": {},
   "outputs": [],
   "source": [
    "engine = create_engine(\"sqlite:///Resources/hawaii.sqlite\")"
   ]
  },
  {
   "cell_type": "code",
   "execution_count": 6,
   "metadata": {},
   "outputs": [],
   "source": [
    "# reflect an existing database into a new model\n",
    "Base = automap_base()\n",
    "# reflect the tables\n",
    "Base.prepare(engine, reflect=True)"
   ]
  },
  {
   "cell_type": "code",
   "execution_count": 7,
   "metadata": {},
   "outputs": [
    {
     "data": {
      "text/plain": [
       "['measurement', 'station']"
      ]
     },
     "execution_count": 7,
     "metadata": {},
     "output_type": "execute_result"
    }
   ],
   "source": [
    "# We can view all of the classes that automap found\n",
    "Base.classes.keys()"
   ]
  },
  {
   "cell_type": "code",
   "execution_count": 17,
   "metadata": {},
   "outputs": [],
   "source": [
    "# Save references to each table\n",
    "Measurement = Base.classes.measurement\n",
    "Station = Base.classes.station"
   ]
  },
  {
   "cell_type": "code",
   "execution_count": 18,
   "metadata": {},
   "outputs": [
    {
     "data": {
      "text/plain": [
       "[(1, 'USC00519397', '2010-01-01', 0.08, 65.0),\n",
       " (2, 'USC00519397', '2010-01-02', 0.0, 63.0),\n",
       " (3, 'USC00519397', '2010-01-03', 0.0, 74.0),\n",
       " (4, 'USC00519397', '2010-01-04', 0.0, 76.0),\n",
       " (5, 'USC00519397', '2010-01-06', None, 73.0),\n",
       " (6, 'USC00519397', '2010-01-07', 0.06, 70.0),\n",
       " (7, 'USC00519397', '2010-01-08', 0.0, 64.0),\n",
       " (8, 'USC00519397', '2010-01-09', 0.0, 68.0),\n",
       " (9, 'USC00519397', '2010-01-10', 0.0, 73.0),\n",
       " (10, 'USC00519397', '2010-01-11', 0.01, 64.0)]"
      ]
     },
     "execution_count": 18,
     "metadata": {},
     "output_type": "execute_result"
    }
   ],
   "source": [
    "engine.execute('SELECT * FROM measurement LIMIT 10').fetchall()"
   ]
  },
  {
   "cell_type": "code",
   "execution_count": 20,
   "metadata": {},
   "outputs": [],
   "source": [
    "# Create our session (link) from Python to the DB\n",
    "session = Session(engine)"
   ]
  },
  {
   "cell_type": "code",
   "execution_count": 21,
   "metadata": {},
   "outputs": [
    {
     "name": "stdout",
     "output_type": "stream",
     "text": [
      "('2017-08-23',)\n"
     ]
    }
   ],
   "source": [
    "last_date = session.query(Measurement.date).order_by(Measurement.date.desc()).first()\n",
    "print(last_date)"
   ]
  },
  {
   "cell_type": "markdown",
   "metadata": {},
   "source": [
    "# Exploratory Climate Analysis"
   ]
  },
  {
   "cell_type": "code",
   "execution_count": 23,
   "metadata": {},
   "outputs": [
    {
     "name": "stdout",
     "output_type": "stream",
     "text": [
      "2016-08-23\n",
      "('2017-08-23',)\n"
     ]
    },
    {
     "data": {
      "image/png": "[encoded data removed]",
      "text/plain": [
       "<Figure size 432x288 with 1 Axes>"
      ]
     },
     "metadata": {
      "needs_background": "light"
     },
     "output_type": "display_data"
    }
   ],
   "source": [
    "# Design a query to retrieve the last 12 months of precipitation data and plot the results\n",
    "last_year = dt.date(2017, 8, 23) - dt.timedelta(days=365)\n",
    "print(last_year)\n",
    "last_date = session.query(Measurement.date).order_by(Measurement.date.desc()).first()\n",
    "print(last_date)\n",
    "rain = session.query(Measurement.date, Measurement.prcp).\\\n",
    "    filter(Measurement.date > last_year).\\\n",
    "    order_by(Measurement.date).all()\n",
    "\n",
    "# Save the query results as a Pandas DataFrame and set the index to the date column\n",
    "rain_df = pd.DataFrame(rain)\n",
    "rain_df.set_index('date').head()\n",
    "\n",
    "# Use Pandas Plotting with Matplotlib to plot the data\n",
    "rain_df = pd.DataFrame(rain)\n",
    "rain_df.set_index('date').head()\n",
    "# Use Pandas Plotting with Matplotlib to plot the data\n",
    "rain_df.plot('date', 'prcp')\n",
    "plt.xlabel(\"Date\")\n",
    "plt.ylabel(\"Rain in Inches\")\n",
    "plt.title(\"Precipitation Analysis (8/24/16 to 8/23/17)\")\n",
    "plt.legend([\"Precipitation\"])\n",
    "plt.xticks(rotation=45)\n",
    "plt.tight_layout()\n",
    "plt.show()"
   ]
  },
  {
   "cell_type": "code",
   "execution_count": 24,
   "metadata": {},
   "outputs": [
    {
     "data": {
      "text/html": [
       "<div>\n",
       "<style scoped>\n",
       "    .dataframe tbody tr th:only-of-type {\n",
       "        vertical-align: middle;\n",
       "    }\n",
       "\n",
       "    .dataframe tbody tr th {\n",
       "        vertical-align: top;\n",
       "    }\n",
       "\n",
       "    .dataframe thead th {\n",
       "        text-align: right;\n",
       "    }\n",
       "</style>\n",
       "<table border=\"1\" class=\"dataframe\">\n",
       "  <thead>\n",
       "    <tr style=\"text-align: right;\">\n",
       "      <th></th>\n",
       "      <th>prcp</th>\n",
       "    </tr>\n",
       "  </thead>\n",
       "  <tbody>\n",
       "    <tr>\n",
       "      <td>count</td>\n",
       "      <td>2015.000000</td>\n",
       "    </tr>\n",
       "    <tr>\n",
       "      <td>mean</td>\n",
       "      <td>0.176462</td>\n",
       "    </tr>\n",
       "    <tr>\n",
       "      <td>std</td>\n",
       "      <td>0.460288</td>\n",
       "    </tr>\n",
       "    <tr>\n",
       "      <td>min</td>\n",
       "      <td>0.000000</td>\n",
       "    </tr>\n",
       "    <tr>\n",
       "      <td>25%</td>\n",
       "      <td>0.000000</td>\n",
       "    </tr>\n",
       "    <tr>\n",
       "      <td>50%</td>\n",
       "      <td>0.020000</td>\n",
       "    </tr>\n",
       "    <tr>\n",
       "      <td>75%</td>\n",
       "      <td>0.130000</td>\n",
       "    </tr>\n",
       "    <tr>\n",
       "      <td>max</td>\n",
       "      <td>6.700000</td>\n",
       "    </tr>\n",
       "  </tbody>\n",
       "</table>\n",
       "</div>"
      ],
      "text/plain": [
       "              prcp\n",
       "count  2015.000000\n",
       "mean      0.176462\n",
       "std       0.460288\n",
       "min       0.000000\n",
       "25%       0.000000\n",
       "50%       0.020000\n",
       "75%       0.130000\n",
       "max       6.700000"
      ]
     },
     "execution_count": 24,
     "metadata": {},
     "output_type": "execute_result"
    }
   ],
   "source": [
    "# Use Pandas to calcualte the summary statistics for the precipitation data\n",
    "rain_df.describe()"
   ]
  },
  {
   "cell_type": "code",
   "execution_count": 25,
   "metadata": {},
   "outputs": [
    {
     "name": "stdout",
     "output_type": "stream",
     "text": [
      "There are 9 stations.\n"
     ]
    }
   ],
   "source": [
    "# Design a query to show how many stations are available in this dataset?\n",
    "locations = session.query(Measurement).group_by(Measurement.station).count()\n",
    "print(\"There are {} stations.\".format(locations))"
   ]
  },
  {
   "cell_type": "code",
   "execution_count": 26,
   "metadata": {},
   "outputs": [
    {
     "name": "stdout",
     "output_type": "stream",
     "text": [
      "The busiest Station was USC00519281 with 2772 weather observations.\n",
      "\n",
      "Here are all of the Stations (in descending order) with their number of observations:\n",
      "Station USC00519281 had 2772 weather observations.\n",
      "Station USC00519397 had 2724 weather observations.\n",
      "Station USC00513117 had 2709 weather observations.\n",
      "Station USC00519523 had 2669 weather observations.\n",
      "Station USC00516128 had 2612 weather observations.\n",
      "Station USC00514830 had 2202 weather observations.\n",
      "Station USC00511918 had 1979 weather observations.\n",
      "Station USC00517948 had 1372 weather observations.\n",
      "Station USC00518838 had 511 weather observations.\n"
     ]
    }
   ],
   "source": [
    "# What are the most active stations? (i.e. what stations have the most rows)?\n",
    "# List the stations and the counts in descending order.\n",
    "busy_station = session.query(Measurement.station, func.count(Measurement.tobs)).group_by(Measurement.station).\\\n",
    "               order_by(func.count(Measurement.tobs).desc()).all()\n",
    "\n",
    "busiest = busy_station[0][0]    \n",
    "print(\"The busiest Station was\",busiest,\"with\",busy_station[0][1],\"weather observations.\")\n",
    "print()\n",
    "print(\"Here are all of the Stations (in descending order) with their number of observations:\")\n",
    "for station, count in busy_station:\n",
    "    print(\"Station\",station,\"had\",count, \"weather observations.\")"
   ]
  },
  {
   "cell_type": "code",
   "execution_count": 27,
   "metadata": {},
   "outputs": [
    {
     "data": {
      "text/plain": [
       "[(54.0, 71.66378066378067, 85.0)]"
      ]
     },
     "execution_count": 27,
     "metadata": {},
     "output_type": "execute_result"
    }
   ],
   "source": [
    "# Using the station id from the previous query, calculate the lowest temperature recorded, \n",
    "# highest temperature recorded, and average temperature of the most active station?\n",
    "best_station = busy_station[0][0]\n",
    "session.query(func.min(Measurement.tobs), func.avg(Measurement.tobs), func.max(Measurement.tobs)).\\\n",
    "                filter(Measurement.station == best_station).all()"
   ]
  },
  {
   "cell_type": "code",
   "execution_count": 28,
   "metadata": {},
   "outputs": [
    {
     "data": {
      "image/png": "[encoded data removed]",
      "text/plain": [
       "<Figure size 432x288 with 1 Axes>"
      ]
     },
     "metadata": {
      "needs_background": "light"
     },
     "output_type": "display_data"
    }
   ],
   "source": [
    "# Choose the station with the highest number of temperature observations.\n",
    "# Query the last 12 months of temperature observation data for this station and plot the results as a histogram\n",
    "temperature = session.query(Measurement.station, Measurement.date, Measurement.tobs).\\\n",
    "    filter(Measurement.station == busiest).\\\n",
    "    filter(Measurement.date > last_year).\\\n",
    "    order_by(Measurement.date).all()\n",
    "temp_df=pd.DataFrame(temperature)\n",
    "plt.hist(temp_df['tobs'],12)\n",
    "plt.xlabel(\"Recorded Temperature\")\n",
    "plt.ylabel(\"Number of Recorded Observations\")\n",
    "plt.title(\"Station Analysis (8/24/16 to 8/23/17) for Station \" + busiest)\n",
    "plt.show()"
   ]
  },
  {
   "cell_type": "markdown",
   "metadata": {},
   "source": [
    "## Bonus Challenge Assignment"
   ]
  },
  {
   "cell_type": "code",
   "execution_count": 29,
   "metadata": {},
   "outputs": [
    {
     "name": "stdout",
     "output_type": "stream",
     "text": [
      "[(62.0, 69.57142857142857, 74.0)]\n"
     ]
    }
   ],
   "source": [
    "# This function called `calc_temps` will accept start date and end date in the format '%Y-%m-%d' \n",
    "# and return the minimum, average, and maximum temperatures for that range of dates\n",
    "def calc_temps(start_date, end_date):\n",
    "    \"\"\"TMIN, TAVG, and TMAX for a list of dates.\n",
    "    \n",
    "    Args:\n",
    "        start_date (string): A date string in the format %Y-%m-%d\n",
    "        end_date (string): A date string in the format %Y-%m-%d\n",
    "        \n",
    "    Returns:\n",
    "        TMIN, TAVE, and TMAX\n",
    "    \"\"\"\n",
    "    \n",
    "    return session.query(func.min(Measurement.tobs), func.avg(Measurement.tobs), func.max(Measurement.tobs)).\\\n",
    "        filter(Measurement.date >= start_date).filter(Measurement.date <= end_date).all()\n",
    "print(calc_temps('2012-02-28', '2012-03-05'))"
   ]
  },
  {
   "cell_type": "code",
   "execution_count": 31,
   "metadata": {},
   "outputs": [
    {
     "data": {
      "text/plain": [
       "[(67.0, 74.42, 79.0)]"
      ]
     },
     "execution_count": 31,
     "metadata": {},
     "output_type": "execute_result"
    }
   ],
   "source": [
    "# Use your previous function `calc_temps` to calculate the tmin, tavg, and tmax \n",
    "# for your trip using the previous year's data for those same dates.\n",
    "trip_temps = calc_temps('2017-04-02','2017-04-09')\n",
    "trip_temps"
   ]
  },
  {
   "cell_type": "code",
   "execution_count": 32,
   "metadata": {},
   "outputs": [
    {
     "data": {
      "image/png": "[encoded data removed]",
      "text/plain": [
       "<Figure size 216x432 with 1 Axes>"
      ]
     },
     "metadata": {
      "needs_background": "light"
     },
     "output_type": "display_data"
    }
   ],
   "source": [
    "# Plot the results from your previous query as a bar chart. \n",
    "# Use \"Trip Avg Temp\" as your Title\n",
    "# Use the average temperature for the y value\n",
    "# Use the peak-to-peak (tmax-tmin) value as the y error bar (yerr)\n",
    "min_temp = trip_temps[0][0]\n",
    "avg_temp = trip_temps[0][1]\n",
    "max_temp = trip_temps[0][2]\n",
    "\n",
    "min_error = avg_temp - min_temp\n",
    "max_error = max_temp - avg_temp\n",
    "\n",
    "plt.figure(figsize=(3,6))\n",
    "plt.bar(0, avg_temp, yerr=[max_temp-min_temp], color = 'orange', alpha=.6)\n",
    "plt.title('Trip Avg Temp')\n",
    "plt.ylim(0,100)\n",
    "plt.ylabel('Temp (F)')\n",
    "plt.xticks([])\n",
    "\n",
    "plt.show()"
   ]
  },
  {
   "cell_type": "code",
   "execution_count": 33,
   "metadata": {},
   "outputs": [
    {
     "name": "stdout",
     "output_type": "stream",
     "text": [
      "Station:  USC00516128\n",
      "    Rainfall:  0.70  \n",
      "    Location:  MANOA LYON ARBO 785.2, HI US\n",
      "    Elevation:  152.4      Latitude:  21.3331  Longitude:  -157.8025\n",
      "\n",
      "Station:  USC00519281\n",
      "    Rainfall:  0.51  \n",
      "    Location:  WAIHEE 837.5, HI US\n",
      "    Elevation:  32.9      Latitude:  21.45167  Longitude:  -157.84888999999998\n",
      "\n",
      "Station:  USC00514830\n",
      "    Rainfall:  0.16  \n",
      "    Location:  KUALOA RANCH HEADQUARTERS 886.9, HI US\n",
      "    Elevation:  7.0      Latitude:  21.5213  Longitude:  -157.8374\n",
      "\n",
      "Station:  USC00513117\n",
      "    Rainfall:  0.16  \n",
      "    Location:  KANEOHE 838.1, HI US\n",
      "    Elevation:  14.6      Latitude:  21.4234  Longitude:  -157.8015\n",
      "\n",
      "Station:  USC00519523\n",
      "    Rainfall:  0.00  \n",
      "    Location:  WAIMANALO EXPERIMENTAL FARM, HI US\n",
      "    Elevation:  19.5      Latitude:  21.33556  Longitude:  -157.71139\n",
      "\n",
      "Station:  USC00519397\n",
      "    Rainfall:  0.00  \n",
      "    Location:  WAIKIKI 717.2, HI US\n",
      "    Elevation:  3.0      Latitude:  21.2716  Longitude:  -157.8168\n",
      "\n",
      "Station:  USC00517948\n",
      "    Rainfall:  0.00  \n",
      "    Location:  PEARL CITY, HI US\n",
      "    Elevation:  11.9      Latitude:  21.3934  Longitude:  -157.9751\n",
      "\n"
     ]
    }
   ],
   "source": [
    "# Calculate the total amount of rainfall per weather station for your trip dates using the previous year's matching dates.\n",
    "# Sort this in descending order by precipitation amount and list the station, name, latitude, longitude, and elevation\n",
    "\n",
    "start_date = '2017-04-02'\n",
    "end_date = '2017-04-09'\n",
    "\n",
    "s = session.query(Station.station,\n",
    "                  func.sum(Measurement.prcp),\n",
    "                  Station.name,\n",
    "                  Station.elevation,                                    \n",
    "                  Station.latitude,\n",
    "                  Station.longitude)\\\n",
    ".filter(Measurement.station == Station.station)\\\n",
    ".filter(Measurement.date >= start_date)\\\n",
    ".filter(Measurement.date <= end_date)\\\n",
    ".group_by(Station.station)\\\n",
    ".order_by(func.sum(Measurement.prcp).desc())\n",
    "\n",
    "for row in s:\n",
    "    rain=\"{0:.2f}\".format(row[1])\n",
    "    print (f\"Station:  {row[0]}\\n    Rainfall:  {rain}  \\n    Location:  {row[2]}\\n    Elevation:  {row[3]}  \\\n",
    "    Latitude:  {row[4]}  Longitude:  {row[5]}\")\n",
    "    print()\n"
   ]
  },
  {
   "cell_type": "code",
   "execution_count": 37,
   "metadata": {},
   "outputs": [
    {
     "data": {
      "text/plain": [
       "[('2010-08-15'),\n",
       " ('2011-08-15'),\n",
       " ('2012-08-15'),\n",
       " ('2013-08-15'),\n",
       " ('2014-08-15'),\n",
       " ('2015-08-15'),\n",
       " ('2016-08-15'),\n",
       " ('2017-08-15')]"
      ]
     },
     "execution_count": 37,
     "metadata": {},
     "output_type": "execute_result"
    }
   ],
   "source": [
    "from sqlalchemy import extract  \n",
    "trip_month=8\n",
    "trip_days=range(1, 16)\n",
    "for i in range(1, 16):\n",
    "    subquery=session.query(Measurement.date).filter(extract('month', Measurement.date)==trip_month).\\\n",
    "             filter(extract('day', Measurement.date)== i ).group_by(Measurement.date).order_by(Measurement.date).all()\n",
    "subquery"
   ]
  },
  {
   "cell_type": "code",
   "execution_count": 41,
   "metadata": {},
   "outputs": [
    {
     "name": "stdout",
     "output_type": "stream",
     "text": [
      "('2010-08-01', 77.0, 71.0, 73.42857142857143)\n",
      "('2011-08-01', 78.0, 67.0, 73.375)\n",
      "('2012-08-01', 79.0, 71.0, 75.85714285714286)\n",
      "('2013-08-01', 79.0, 75.0, 76.83333333333333)\n",
      "('2014-08-01', 83.0, 73.0, 77.42857142857143)\n",
      "('2015-08-01', 79.0, 73.0, 77.4)\n",
      "('2016-08-01', 78.0, 73.0, 76.16666666666667)\n",
      "('2017-08-01', 77.0, 72.0, 74.5)\n",
      "('2010-08-02', 76.0, 70.0, 73.22222222222223)\n",
      "('2011-08-02', 77.0, 70.0, 73.625)\n",
      "('2012-08-02', 78.0, 68.0, 73.5)\n",
      "('2013-08-02', 78.0, 70.0, 74.57142857142857)\n",
      "('2014-08-02', 81.0, 73.0, 77.71428571428571)\n",
      "('2015-08-02', 84.0, 76.0, 80.0)\n",
      "('2016-08-02', 80.0, 72.0, 76.57142857142857)\n",
      "('2017-08-02', 83.0, 73.0, 79.0)\n",
      "('2010-08-03', 77.0, 70.0, 73.11111111111111)\n",
      "('2011-08-03', 78.0, 71.0, 75.25)\n",
      "('2012-08-03', 78.0, 72.0, 74.57142857142857)\n",
      "('2013-08-03', 79.0, 72.0, 76.66666666666667)\n",
      "('2014-08-03', 83.0, 74.0, 78.33333333333333)\n",
      "('2015-08-03', 85.0, 75.0, 80.0)\n",
      "('2016-08-03', 82.0, 74.0, 78.42857142857143)\n",
      "('2017-08-03', 81.0, 76.0, 79.0)\n",
      "('2010-08-04', 77.0, 69.0, 73.44444444444444)\n",
      "('2011-08-04', 77.0, 74.0, 75.625)\n",
      "('2012-08-04', 80.0, 72.0, 76.33333333333333)\n",
      "('2013-08-04', 79.0, 69.0, 76.66666666666667)\n",
      "('2014-08-04', 83.0, 74.0, 79.33333333333333)\n",
      "('2015-08-04', 84.0, 69.0, 77.28571428571429)\n",
      "('2016-08-04', 81.0, 74.0, 78.0)\n",
      "('2017-08-04', 82.0, 77.0, 80.0)\n",
      "('2010-08-05', 75.0, 69.0, 71.77777777777777)\n",
      "('2011-08-05', 79.0, 73.0, 76.375)\n",
      "('2012-08-05', 82.0, 70.0, 76.5)\n",
      "('2013-08-05', 79.0, 69.0, 74.875)\n",
      "('2014-08-05', 80.0, 74.0, 77.0)\n",
      "('2015-08-05', 82.0, 74.0, 78.14285714285714)\n",
      "('2016-08-05', 81.0, 75.0, 78.5)\n",
      "('2017-08-05', 82.0, 77.0, 80.0)\n",
      "('2010-08-06', 77.0, 70.0, 74.44444444444444)\n",
      "('2011-08-06', 78.0, 72.0, 75.16666666666667)\n",
      "('2012-08-06', 80.0, 67.0, 74.0)\n",
      "('2013-08-06', 80.0, 74.0, 76.625)\n",
      "('2014-08-06', 78.0, 71.0, 75.28571428571429)\n",
      "('2015-08-06', 81.0, 74.0, 77.28571428571429)\n",
      "('2016-08-06', 80.0, 76.0, 78.16666666666667)\n",
      "('2017-08-06', 83.0, 79.0, 81.4)\n",
      "('2010-08-07', 80.0, 72.0, 75.625)\n",
      "('2011-08-07', 79.0, 76.0, 77.57142857142857)\n",
      "('2012-08-07', 77.0, 71.0, 74.33333333333333)\n",
      "('2013-08-07', 81.0, 72.0, 76.625)\n",
      "('2014-08-07', 81.0, 74.0, 77.5)\n",
      "('2015-08-07', 82.0, 73.0, 78.0)\n",
      "('2016-08-07', 83.0, 77.0, 78.83333333333333)\n",
      "('2017-08-07', 83.0, 78.0, 80.5)\n",
      "('2010-08-08', 78.0, 71.0, 74.57142857142857)\n",
      "('2011-08-08', 78.0, 70.0, 75.75)\n",
      "('2012-08-08', 78.0, 71.0, 74.0)\n",
      "('2013-08-08', 81.0, 68.0, 74.625)\n",
      "('2014-08-08', 82.0, 73.0, 77.71428571428571)\n",
      "('2015-08-08', 82.0, 76.0, 79.4)\n",
      "('2016-08-08', 83.0, 75.0, 79.57142857142857)\n",
      "('2017-08-08', 82.0, 74.0, 78.5)\n",
      "('2010-08-09', 79.0, 72.0, 75.22222222222223)\n",
      "('2011-08-09', 79.0, 71.0, 75.42857142857143)\n",
      "('2012-08-09', 78.0, 69.0, 74.66666666666667)\n",
      "('2013-08-09', 80.0, 70.0, 74.75)\n",
      "('2014-08-09', 81.0, 73.0, 76.85714285714286)\n",
      "('2015-08-09', 79.0, 73.0, 75.75)\n",
      "('2016-08-09', 81.0, 73.0, 78.71428571428571)\n",
      "('2017-08-09', 81.0, 71.0, 77.33333333333333)\n",
      "('2010-08-10', 83.0, 72.0, 76.22222222222223)\n",
      "('2011-08-10', 79.0, 71.0, 75.0)\n",
      "('2012-08-10', 76.0, 65.0, 72.66666666666667)\n",
      "('2013-08-10', 76.0, 71.0, 73.33333333333333)\n",
      "('2014-08-10', 82.0, 73.0, 77.2)\n",
      "('2015-08-10', 81.0, 75.0, 78.33333333333333)\n",
      "('2016-08-10', 82.0, 76.0, 80.14285714285714)\n",
      "('2017-08-10', 81.0, 75.0, 79.25)\n",
      "('2010-08-11', 77.0, 69.0, 73.22222222222223)\n",
      "('2011-08-11', 80.0, 73.0, 76.14285714285714)\n",
      "('2012-08-11', 78.0, 67.0, 73.33333333333333)\n",
      "('2013-08-11', 82.0, 72.0, 77.33333333333333)\n",
      "('2014-08-11', 81.0, 68.0, 74.14285714285714)\n",
      "('2015-08-11', 82.0, 73.0, 78.57142857142857)\n",
      "('2016-08-11', 80.0, 74.0, 78.57142857142857)\n",
      "('2017-08-11', 81.0, 72.0, 78.0)\n",
      "('2010-08-12', 77.0, 71.0, 74.875)\n",
      "('2011-08-12', 78.0, 67.0, 74.75)\n",
      "('2012-08-12', 81.0, 69.0, 76.16666666666667)\n",
      "('2013-08-12', 79.0, 74.0, 76.625)\n",
      "('2014-08-12', 81.0, 70.0, 76.0)\n",
      "('2015-08-12', 83.0, 76.0, 80.0)\n",
      "('2016-08-12', 81.0, 71.0, 76.71428571428571)\n",
      "('2017-08-12', 83.0, 74.0, 79.0)\n",
      "('2010-08-13', 80.0, 71.0, 75.77777777777777)\n",
      "('2011-08-13', 78.0, 73.0, 75.71428571428571)\n",
      "('2012-08-13', 81.0, 73.0, 76.28571428571429)\n",
      "('2013-08-13', 79.0, 73.0, 75.57142857142857)\n",
      "('2014-08-13', 81.0, 71.0, 75.875)\n",
      "('2015-08-13', 83.0, 75.0, 78.625)\n",
      "('2016-08-13', 83.0, 74.0, 79.0)\n",
      "('2017-08-13', 84.0, 77.0, 80.6)\n",
      "('2010-08-14', 78.0, 71.0, 76.14285714285714)\n",
      "('2011-08-14', 80.0, 74.0, 77.0)\n",
      "('2012-08-14', 77.0, 72.0, 74.0)\n",
      "('2013-08-14', 79.0, 73.0, 76.5)\n",
      "('2014-08-14', 80.0, 71.0, 77.0)\n",
      "('2015-08-14', 82.0, 74.0, 78.5)\n",
      "('2016-08-14', 82.0, 72.0, 77.2)\n",
      "('2017-08-14', 81.0, 75.0, 78.2)\n",
      "('2010-08-15', 79.0, 72.0, 75.57142857142857)\n",
      "('2011-08-15', 80.0, 74.0, 76.25)\n",
      "('2012-08-15', 79.0, 73.0, 75.57142857142857)\n",
      "('2013-08-15', 79.0, 69.0, 75.33333333333333)\n",
      "('2014-08-15', 80.0, 70.0, 75.42857142857143)\n",
      "('2015-08-15', 83.0, 73.0, 79.16666666666667)\n",
      "('2016-08-15', 81.0, 72.0, 77.71428571428571)\n",
      "('2017-08-15', 82.0, 70.0, 77.2)\n"
     ]
    }
   ],
   "source": [
    "# Create a query that will calculate the daily normals \n",
    "# (i.e. the averages for tmin, tmax, and tavg for all historic data matching a specific month and day)\n",
    "dates=[]\n",
    "daily_normals_Three_AVG=[]\n",
    "daily_normals_TMAX=[]\n",
    "daily_normals_TMIN=[]\n",
    "daily_normals_TAVG=[]\n",
    "\n",
    "trip_month=8\n",
    "trip_days=range(1, 16)\n",
    "\n",
    "def daily_normals():\n",
    "    \n",
    "    for i in range(1,16):\n",
    "        results=session.query(Measurement.date.label(\"dates\"), func.max(Measurement.tobs).label(\"max_tobs\"),\\\n",
    "                             func.min(Measurement.tobs).label(\"min_tobs\"),func.avg(Measurement.tobs).label(\"avg_tobs\")).\\\n",
    "                             filter(extract('month', Measurement.date)==trip_month).\\\n",
    "                             filter(extract('day', Measurement.date)== i ).group_by(Measurement.date).order_by(Measurement.date)\n",
    "        results\n",
    "        for res in results.all():\n",
    "            print( res)\n",
    "        res\n",
    "        TMAX = res.max_tobs\n",
    "        TMIN= res.min_tobs\n",
    "        TAVG= res.avg_tobs\n",
    "        Date= res.dates\n",
    "        \n",
    "        data = [TMAX, TMIN, TAVG]\n",
    "        #avg = [float(sum(col))/len(col) for col in zip(*data)]\n",
    "\n",
    "        dates.append(Date)\n",
    "        #daily_normals_Three_AVG.append(avg)\n",
    "        daily_normals_TMAX.append(TMAX)\n",
    "        daily_normals_TMIN.append(TMIN)\n",
    "        daily_normals_TAVG.append(TAVG)\n",
    "\n",
    "    \n",
    "daily_normals()"
   ]
  },
  {
   "cell_type": "code",
   "execution_count": 42,
   "metadata": {},
   "outputs": [
    {
     "data": {
      "text/html": [
       "<div>\n",
       "<style scoped>\n",
       "    .dataframe tbody tr th:only-of-type {\n",
       "        vertical-align: middle;\n",
       "    }\n",
       "\n",
       "    .dataframe tbody tr th {\n",
       "        vertical-align: top;\n",
       "    }\n",
       "\n",
       "    .dataframe thead th {\n",
       "        text-align: right;\n",
       "    }\n",
       "</style>\n",
       "<table border=\"1\" class=\"dataframe\">\n",
       "  <thead>\n",
       "    <tr style=\"text-align: right;\">\n",
       "      <th></th>\n",
       "      <th>TMAX</th>\n",
       "      <th>TMIN</th>\n",
       "      <th>TAVG</th>\n",
       "    </tr>\n",
       "    <tr>\n",
       "      <th>Date</th>\n",
       "      <th></th>\n",
       "      <th></th>\n",
       "      <th></th>\n",
       "    </tr>\n",
       "  </thead>\n",
       "  <tbody>\n",
       "    <tr>\n",
       "      <td>2017-08-01</td>\n",
       "      <td>77.0</td>\n",
       "      <td>72.0</td>\n",
       "      <td>74.5</td>\n",
       "    </tr>\n",
       "    <tr>\n",
       "      <td>2017-08-02</td>\n",
       "      <td>83.0</td>\n",
       "      <td>73.0</td>\n",
       "      <td>79.0</td>\n",
       "    </tr>\n",
       "    <tr>\n",
       "      <td>2017-08-03</td>\n",
       "      <td>81.0</td>\n",
       "      <td>76.0</td>\n",
       "      <td>79.0</td>\n",
       "    </tr>\n",
       "    <tr>\n",
       "      <td>2017-08-04</td>\n",
       "      <td>82.0</td>\n",
       "      <td>77.0</td>\n",
       "      <td>80.0</td>\n",
       "    </tr>\n",
       "    <tr>\n",
       "      <td>2017-08-05</td>\n",
       "      <td>82.0</td>\n",
       "      <td>77.0</td>\n",
       "      <td>80.0</td>\n",
       "    </tr>\n",
       "  </tbody>\n",
       "</table>\n",
       "</div>"
      ],
      "text/plain": [
       "            TMAX  TMIN  TAVG\n",
       "Date                        \n",
       "2017-08-01  77.0  72.0  74.5\n",
       "2017-08-02  83.0  73.0  79.0\n",
       "2017-08-03  81.0  76.0  79.0\n",
       "2017-08-04  82.0  77.0  80.0\n",
       "2017-08-05  82.0  77.0  80.0"
      ]
     },
     "execution_count": 42,
     "metadata": {},
     "output_type": "execute_result"
    }
   ],
   "source": [
    "# calculate the daily normals for your trip\n",
    "# push each tuple of calculations into a list called `normals`\n",
    "# Set the start and end date of the trip\n",
    "# Use the start and end date to create a range of dates\n",
    "# Stip off the year and save a list of %m-%d strings\n",
    "# Loop through the list of %m-%d strings and calculate the normals for each date\n",
    "\n",
    "Daily_normals_df= pd.DataFrame({'Date': dates, 'TMAX': daily_normals_TMAX, 'TMIN': daily_normals_TMIN,'TAVG': daily_normals_TAVG,})\n",
    "Daily_normals_df.set_index('Date', inplace=True, )\n",
    "Daily_normals_df.head()\n"
   ]
  },
  {
   "cell_type": "code",
   "execution_count": 43,
   "metadata": {},
   "outputs": [
    {
     "data": {
      "text/plain": [
       "<Figure size 648x792 with 0 Axes>"
      ]
     },
     "metadata": {},
     "output_type": "display_data"
    },
    {
     "data": {
      "image/png": "[encoded data removed]",
      "text/plain": [
       "<Figure size 432x288 with 1 Axes>"
      ]
     },
     "metadata": {
      "needs_background": "light"
     },
     "output_type": "display_data"
    }
   ],
   "source": [
    "# Plot the daily normals as an area plot with `stacked=False`\n",
    "\n",
    "fig = plt.figure(figsize=(9, 11))\n",
    "ax = Daily_normals_df.plot(kind='area', stacked=False, title='Daily normals of Temperature in Hawaii')\n",
    "ax.set_xlabel('Date')\n",
    "plt.tight_layout()\n",
    "plt.savefig('Daily normals of Temperature in Hawaii.png', bbox_inches = 'tight')\n",
    "plt.show()"
   ]
  },
  {
   "cell_type": "code",
   "execution_count": null,
   "metadata": {},
   "outputs": [],
   "source": []
  }
 ],
 "metadata": {
  "kernel_info": {
   "name": "python3"
  },
  "kernelspec": {
   "display_name": "Python 3",
   "language": "python",
   "name": "python3"
  },
  "language_info": {
   "codemirror_mode": {
    "name": "ipython",
    "version": 3
   },
   "file_extension": ".py",
   "mimetype": "text/x-python",
   "name": "python",
   "nbconvert_exporter": "python",
   "pygments_lexer": "ipython3",
   "version": "3.7.4"
  },
  "nteract": {
   "version": "0.12.3"
  },
  "varInspector": {
   "cols": {
    "lenName": 16,
    "lenType": 16,
    "lenVar": 40
   },
   "kernels_config": {
    "python": {
     "delete_cmd_postfix": "",
     "delete_cmd_prefix": "del ",
     "library": "var_list.py",
     "varRefreshCmd": "print(var_dic_list())"
    },
    "r": {
     "delete_cmd_postfix": ") ",
     "delete_cmd_prefix": "rm(",
     "library": "var_list.r",
     "varRefreshCmd": "cat(var_dic_list()) "
    }
   },
   "types_to_exclude": [
    "module",
    "function",
    "builtin_function_or_method",
    "instance",
    "_Feature"
   ],
   "window_display": false
  }
 },
 "nbformat": 4,
 "nbformat_minor": 2
}
